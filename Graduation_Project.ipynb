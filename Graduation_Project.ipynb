{
  "cells": [
    {
      "cell_type": "markdown",
      "metadata": {
        "id": "view-in-github",
        "colab_type": "text"
      },
      "source": [
        "<a href=\"https://colab.research.google.com/github/swapnil2009/PyCBC/blob/master/Graduation_Project.ipynb\" target=\"_parent\"><img src=\"https://colab.research.google.com/assets/colab-badge.svg\" alt=\"Open In Colab\"/></a>"
      ]
    },
    {
      "cell_type": "markdown",
      "metadata": {
        "id": "ejaWQtcPlJA7"
      },
      "source": [
        "# Logistic Regression"
      ],
      "id": "ejaWQtcPlJA7"
    },
    {
      "cell_type": "markdown",
      "metadata": {
        "id": "OS3xtSkTlJBI"
      },
      "source": [
        "\n",
        "\n",
        "\n",
        "## Assignment 🌯\n",
        "\n",
        "Using a [**dataset of 400+ burrito reviews**](https://srcole.github.io/100burritos/), build a model that predicts whether a burrito is rated `'Great'`?\n",
        "\n",
        "## What We Want\n",
        "\n",
        "The purpose of this assignment is to give us an idea of how you approach a data science problem and whether you mastered some of the skills that you learned in Fullstack Bootcamp. Please  explain your approach. \n",
        "\n",
        "## What You Need to Do\n",
        "\n",
        "- [ ] Make a copy of this notebook to work on - you can download if you have a local Jupyter setup, or click `File > Save a copy in Drive` to copy and work on with Google Colab\n",
        "- [ ] Import the burrito `csv` file into a `DataFrame`. Your target will be the `'Great'` column.\n",
        "- [ ] Conduct exploratory data analysis (EDA) to determine how you should clean the data for your pipeline.\n",
        "- [ ] Clean your data. (Note: You are not required to use all columns in your model, but justify your decisions based on your EDA.)\n",
        "- [ ] Do train/validate/test split. Train on reviews from 2016 & earlier. Validate on 2017. Test on 2018 & later.\n",
        "- [ ] Determine what the baseline accuracy is for a naïve classification model.\n",
        "- [ ] Create a `scikit-learn` pipeline with the following components:\n",
        "  - A one hot encoder for categorical features.\n",
        "  - A scaler.\n",
        "  - A logistic regressor.\n",
        "- [ ] Train your model using the training data.\n",
        "- [ ] Create a visualization showing your model's coefficients.\n",
        "- [ ] Get your model's validation accuracy (multiple times if you try multiple iterations).\n",
        "- [ ] Get your model's test accuracy (one time, at the end).\n",
        "\n",
        "---\n",
        "\n"
      ],
      "id": "OS3xtSkTlJBI"
    },
    {
      "cell_type": "code",
      "execution_count": 1,
      "metadata": {
        "id": "x7LVyZJdlJBM"
      },
      "outputs": [],
      "source": [
        "### Import the burrito `csv` file\n",
        "\n",
        "# Import Data\n",
        "import pandas as pd\n",
        "df = pd.read_csv('https://drive.google.com/uc?export=download&id=1cctPq1sYeD6Y6mGg5Lpl-GLDJBwtdihg')"
      ],
      "id": "x7LVyZJdlJBM"
    },
    {
      "cell_type": "code",
      "source": [
        "df.head()"
      ],
      "metadata": {
        "id": "S-NlcvwXyrxL",
        "outputId": "ad37e169-d0f0-41a7-ef45-6f430967bdaa",
        "colab": {
          "base_uri": "https://localhost:8080/",
          "height": 490
        }
      },
      "id": "S-NlcvwXyrxL",
      "execution_count": 2,
      "outputs": [
        {
          "output_type": "execute_result",
          "data": {
            "text/plain": [
              "               Location      Burrito       Date Neighborhood  \\\n",
              "0    Donato's taco shop  California   1/18/2016      Miramar   \n",
              "1  Oscar's Mexican food  California   1/24/2016   San Marcos   \n",
              "2  Oscar's Mexican food     Carnitas  1/24/2016          NaN   \n",
              "3  Oscar's Mexican food  Carne asada  1/24/2016          NaN   \n",
              "4          Pollos Maria   California  1/27/2016     Carlsbad   \n",
              "\n",
              "                    Address  \\\n",
              "0           6780 Miramar Rd   \n",
              "1  225 S Rancho Santa Fe Rd   \n",
              "2                       NaN   \n",
              "3                       NaN   \n",
              "4           3055 Harding St   \n",
              "\n",
              "                                                 URL  Yelp  Google Chips  \\\n",
              "0                        http://donatostacoshop.net/   3.5     4.2   NaN   \n",
              "1  http://www.yelp.com/biz/oscars-mexican-food-sa...   3.5     3.3   NaN   \n",
              "2                                                NaN   NaN     NaN   NaN   \n",
              "3                                                NaN   NaN     NaN   NaN   \n",
              "4                            http://pollosmaria.com/   4.0     3.8     x   \n",
              "\n",
              "   Cost  ...  Lobster  Queso  Egg  Mushroom  Bacon  Sushi  Avocado  Corn  \\\n",
              "0  6.49  ...      NaN    NaN  NaN       NaN    NaN    NaN      NaN   NaN   \n",
              "1  5.45  ...      NaN    NaN  NaN       NaN    NaN    NaN      NaN   NaN   \n",
              "2  4.85  ...      NaN    NaN  NaN       NaN    NaN    NaN      NaN   NaN   \n",
              "3  5.25  ...      NaN    NaN  NaN       NaN    NaN    NaN      NaN   NaN   \n",
              "4  6.59  ...      NaN    NaN  NaN       NaN    NaN    NaN      NaN   NaN   \n",
              "\n",
              "   Zucchini  Great  \n",
              "0       NaN  False  \n",
              "1       NaN  False  \n",
              "2       NaN  False  \n",
              "3       NaN  False  \n",
              "4       NaN   True  \n",
              "\n",
              "[5 rows x 65 columns]"
            ],
            "text/html": [
              "\n",
              "  <div id=\"df-dcb27ad0-afd0-4629-853b-8ee368f6caf3\">\n",
              "    <div class=\"colab-df-container\">\n",
              "      <div>\n",
              "<style scoped>\n",
              "    .dataframe tbody tr th:only-of-type {\n",
              "        vertical-align: middle;\n",
              "    }\n",
              "\n",
              "    .dataframe tbody tr th {\n",
              "        vertical-align: top;\n",
              "    }\n",
              "\n",
              "    .dataframe thead th {\n",
              "        text-align: right;\n",
              "    }\n",
              "</style>\n",
              "<table border=\"1\" class=\"dataframe\">\n",
              "  <thead>\n",
              "    <tr style=\"text-align: right;\">\n",
              "      <th></th>\n",
              "      <th>Location</th>\n",
              "      <th>Burrito</th>\n",
              "      <th>Date</th>\n",
              "      <th>Neighborhood</th>\n",
              "      <th>Address</th>\n",
              "      <th>URL</th>\n",
              "      <th>Yelp</th>\n",
              "      <th>Google</th>\n",
              "      <th>Chips</th>\n",
              "      <th>Cost</th>\n",
              "      <th>...</th>\n",
              "      <th>Lobster</th>\n",
              "      <th>Queso</th>\n",
              "      <th>Egg</th>\n",
              "      <th>Mushroom</th>\n",
              "      <th>Bacon</th>\n",
              "      <th>Sushi</th>\n",
              "      <th>Avocado</th>\n",
              "      <th>Corn</th>\n",
              "      <th>Zucchini</th>\n",
              "      <th>Great</th>\n",
              "    </tr>\n",
              "  </thead>\n",
              "  <tbody>\n",
              "    <tr>\n",
              "      <th>0</th>\n",
              "      <td>Donato's taco shop</td>\n",
              "      <td>California</td>\n",
              "      <td>1/18/2016</td>\n",
              "      <td>Miramar</td>\n",
              "      <td>6780 Miramar Rd</td>\n",
              "      <td>http://donatostacoshop.net/</td>\n",
              "      <td>3.5</td>\n",
              "      <td>4.2</td>\n",
              "      <td>NaN</td>\n",
              "      <td>6.49</td>\n",
              "      <td>...</td>\n",
              "      <td>NaN</td>\n",
              "      <td>NaN</td>\n",
              "      <td>NaN</td>\n",
              "      <td>NaN</td>\n",
              "      <td>NaN</td>\n",
              "      <td>NaN</td>\n",
              "      <td>NaN</td>\n",
              "      <td>NaN</td>\n",
              "      <td>NaN</td>\n",
              "      <td>False</td>\n",
              "    </tr>\n",
              "    <tr>\n",
              "      <th>1</th>\n",
              "      <td>Oscar's Mexican food</td>\n",
              "      <td>California</td>\n",
              "      <td>1/24/2016</td>\n",
              "      <td>San Marcos</td>\n",
              "      <td>225 S Rancho Santa Fe Rd</td>\n",
              "      <td>http://www.yelp.com/biz/oscars-mexican-food-sa...</td>\n",
              "      <td>3.5</td>\n",
              "      <td>3.3</td>\n",
              "      <td>NaN</td>\n",
              "      <td>5.45</td>\n",
              "      <td>...</td>\n",
              "      <td>NaN</td>\n",
              "      <td>NaN</td>\n",
              "      <td>NaN</td>\n",
              "      <td>NaN</td>\n",
              "      <td>NaN</td>\n",
              "      <td>NaN</td>\n",
              "      <td>NaN</td>\n",
              "      <td>NaN</td>\n",
              "      <td>NaN</td>\n",
              "      <td>False</td>\n",
              "    </tr>\n",
              "    <tr>\n",
              "      <th>2</th>\n",
              "      <td>Oscar's Mexican food</td>\n",
              "      <td>Carnitas</td>\n",
              "      <td>1/24/2016</td>\n",
              "      <td>NaN</td>\n",
              "      <td>NaN</td>\n",
              "      <td>NaN</td>\n",
              "      <td>NaN</td>\n",
              "      <td>NaN</td>\n",
              "      <td>NaN</td>\n",
              "      <td>4.85</td>\n",
              "      <td>...</td>\n",
              "      <td>NaN</td>\n",
              "      <td>NaN</td>\n",
              "      <td>NaN</td>\n",
              "      <td>NaN</td>\n",
              "      <td>NaN</td>\n",
              "      <td>NaN</td>\n",
              "      <td>NaN</td>\n",
              "      <td>NaN</td>\n",
              "      <td>NaN</td>\n",
              "      <td>False</td>\n",
              "    </tr>\n",
              "    <tr>\n",
              "      <th>3</th>\n",
              "      <td>Oscar's Mexican food</td>\n",
              "      <td>Carne asada</td>\n",
              "      <td>1/24/2016</td>\n",
              "      <td>NaN</td>\n",
              "      <td>NaN</td>\n",
              "      <td>NaN</td>\n",
              "      <td>NaN</td>\n",
              "      <td>NaN</td>\n",
              "      <td>NaN</td>\n",
              "      <td>5.25</td>\n",
              "      <td>...</td>\n",
              "      <td>NaN</td>\n",
              "      <td>NaN</td>\n",
              "      <td>NaN</td>\n",
              "      <td>NaN</td>\n",
              "      <td>NaN</td>\n",
              "      <td>NaN</td>\n",
              "      <td>NaN</td>\n",
              "      <td>NaN</td>\n",
              "      <td>NaN</td>\n",
              "      <td>False</td>\n",
              "    </tr>\n",
              "    <tr>\n",
              "      <th>4</th>\n",
              "      <td>Pollos Maria</td>\n",
              "      <td>California</td>\n",
              "      <td>1/27/2016</td>\n",
              "      <td>Carlsbad</td>\n",
              "      <td>3055 Harding St</td>\n",
              "      <td>http://pollosmaria.com/</td>\n",
              "      <td>4.0</td>\n",
              "      <td>3.8</td>\n",
              "      <td>x</td>\n",
              "      <td>6.59</td>\n",
              "      <td>...</td>\n",
              "      <td>NaN</td>\n",
              "      <td>NaN</td>\n",
              "      <td>NaN</td>\n",
              "      <td>NaN</td>\n",
              "      <td>NaN</td>\n",
              "      <td>NaN</td>\n",
              "      <td>NaN</td>\n",
              "      <td>NaN</td>\n",
              "      <td>NaN</td>\n",
              "      <td>True</td>\n",
              "    </tr>\n",
              "  </tbody>\n",
              "</table>\n",
              "<p>5 rows × 65 columns</p>\n",
              "</div>\n",
              "      <button class=\"colab-df-convert\" onclick=\"convertToInteractive('df-dcb27ad0-afd0-4629-853b-8ee368f6caf3')\"\n",
              "              title=\"Convert this dataframe to an interactive table.\"\n",
              "              style=\"display:none;\">\n",
              "        \n",
              "  <svg xmlns=\"http://www.w3.org/2000/svg\" height=\"24px\"viewBox=\"0 0 24 24\"\n",
              "       width=\"24px\">\n",
              "    <path d=\"M0 0h24v24H0V0z\" fill=\"none\"/>\n",
              "    <path d=\"M18.56 5.44l.94 2.06.94-2.06 2.06-.94-2.06-.94-.94-2.06-.94 2.06-2.06.94zm-11 1L8.5 8.5l.94-2.06 2.06-.94-2.06-.94L8.5 2.5l-.94 2.06-2.06.94zm10 10l.94 2.06.94-2.06 2.06-.94-2.06-.94-.94-2.06-.94 2.06-2.06.94z\"/><path d=\"M17.41 7.96l-1.37-1.37c-.4-.4-.92-.59-1.43-.59-.52 0-1.04.2-1.43.59L10.3 9.45l-7.72 7.72c-.78.78-.78 2.05 0 2.83L4 21.41c.39.39.9.59 1.41.59.51 0 1.02-.2 1.41-.59l7.78-7.78 2.81-2.81c.8-.78.8-2.07 0-2.86zM5.41 20L4 18.59l7.72-7.72 1.47 1.35L5.41 20z\"/>\n",
              "  </svg>\n",
              "      </button>\n",
              "      \n",
              "  <style>\n",
              "    .colab-df-container {\n",
              "      display:flex;\n",
              "      flex-wrap:wrap;\n",
              "      gap: 12px;\n",
              "    }\n",
              "\n",
              "    .colab-df-convert {\n",
              "      background-color: #E8F0FE;\n",
              "      border: none;\n",
              "      border-radius: 50%;\n",
              "      cursor: pointer;\n",
              "      display: none;\n",
              "      fill: #1967D2;\n",
              "      height: 32px;\n",
              "      padding: 0 0 0 0;\n",
              "      width: 32px;\n",
              "    }\n",
              "\n",
              "    .colab-df-convert:hover {\n",
              "      background-color: #E2EBFA;\n",
              "      box-shadow: 0px 1px 2px rgba(60, 64, 67, 0.3), 0px 1px 3px 1px rgba(60, 64, 67, 0.15);\n",
              "      fill: #174EA6;\n",
              "    }\n",
              "\n",
              "    [theme=dark] .colab-df-convert {\n",
              "      background-color: #3B4455;\n",
              "      fill: #D2E3FC;\n",
              "    }\n",
              "\n",
              "    [theme=dark] .colab-df-convert:hover {\n",
              "      background-color: #434B5C;\n",
              "      box-shadow: 0px 1px 3px 1px rgba(0, 0, 0, 0.15);\n",
              "      filter: drop-shadow(0px 1px 2px rgba(0, 0, 0, 0.3));\n",
              "      fill: #FFFFFF;\n",
              "    }\n",
              "  </style>\n",
              "\n",
              "      <script>\n",
              "        const buttonEl =\n",
              "          document.querySelector('#df-dcb27ad0-afd0-4629-853b-8ee368f6caf3 button.colab-df-convert');\n",
              "        buttonEl.style.display =\n",
              "          google.colab.kernel.accessAllowed ? 'block' : 'none';\n",
              "\n",
              "        async function convertToInteractive(key) {\n",
              "          const element = document.querySelector('#df-dcb27ad0-afd0-4629-853b-8ee368f6caf3');\n",
              "          const dataTable =\n",
              "            await google.colab.kernel.invokeFunction('convertToInteractive',\n",
              "                                                     [key], {});\n",
              "          if (!dataTable) return;\n",
              "\n",
              "          const docLinkHtml = 'Like what you see? Visit the ' +\n",
              "            '<a target=\"_blank\" href=https://colab.research.google.com/notebooks/data_table.ipynb>data table notebook</a>'\n",
              "            + ' to learn more about interactive tables.';\n",
              "          element.innerHTML = '';\n",
              "          dataTable['output_type'] = 'display_data';\n",
              "          await google.colab.output.renderOutput(dataTable, element);\n",
              "          const docLink = document.createElement('div');\n",
              "          docLink.innerHTML = docLinkHtml;\n",
              "          element.appendChild(docLink);\n",
              "        }\n",
              "      </script>\n",
              "    </div>\n",
              "  </div>\n",
              "  "
            ]
          },
          "metadata": {},
          "execution_count": 2
        }
      ]
    },
    {
      "cell_type": "code",
      "execution_count": null,
      "metadata": {
        "id": "hDz6xEpJlJBP"
      },
      "outputs": [],
      "source": [
        "### Conduct exploratory data analysis (EDA)"
      ],
      "id": "hDz6xEpJlJBP"
    },
    {
      "cell_type": "code",
      "execution_count": null,
      "metadata": {
        "id": "zclRALOZlJBQ"
      },
      "outputs": [],
      "source": [
        "\n",
        "### Clean data"
      ],
      "id": "zclRALOZlJBQ"
    },
    {
      "cell_type": "code",
      "execution_count": null,
      "metadata": {
        "id": "ZiCSetKilJBU"
      },
      "outputs": [],
      "source": [
        "\n",
        "### Do train/validate/test split"
      ],
      "id": "ZiCSetKilJBU"
    },
    {
      "cell_type": "code",
      "execution_count": null,
      "metadata": {
        "id": "QAfU0iTslJBZ"
      },
      "outputs": [],
      "source": [
        "### Determine baseline accuracy for a naïve classification model"
      ],
      "id": "QAfU0iTslJBZ"
    },
    {
      "cell_type": "code",
      "execution_count": null,
      "metadata": {
        "id": "-sF15PxslJBc"
      },
      "outputs": [],
      "source": [
        "### Create a `scikit-learn` pipeline"
      ],
      "id": "-sF15PxslJBc"
    },
    {
      "cell_type": "code",
      "execution_count": null,
      "metadata": {
        "id": "la094W3BlJBe"
      },
      "outputs": [],
      "source": [
        "### Train model using training data"
      ],
      "id": "la094W3BlJBe"
    },
    {
      "cell_type": "code",
      "execution_count": null,
      "metadata": {
        "id": "eo7kPoT4lJBf"
      },
      "outputs": [],
      "source": [
        "### Create visualization of model coefficients\n",
        "\n"
      ],
      "id": "eo7kPoT4lJBf"
    },
    {
      "cell_type": "code",
      "execution_count": null,
      "metadata": {
        "id": "Ta7snzM2lJBh"
      },
      "outputs": [],
      "source": [
        "### Get model's validation accuracy\n",
        "\n"
      ],
      "id": "Ta7snzM2lJBh"
    },
    {
      "cell_type": "code",
      "execution_count": null,
      "metadata": {
        "id": "7UvrY5cklJBl"
      },
      "outputs": [],
      "source": [
        "### Get your model's test accuracy\n",
        "\n"
      ],
      "id": "7UvrY5cklJBl"
    }
  ],
  "metadata": {
    "kernelspec": {
      "display_name": "Python 3",
      "language": "python",
      "name": "python3"
    },
    "language_info": {
      "codemirror_mode": {
        "name": "ipython",
        "version": 3
      },
      "file_extension": ".py",
      "mimetype": "text/x-python",
      "name": "python",
      "nbconvert_exporter": "python",
      "pygments_lexer": "ipython3",
      "version": "3.7.7"
    },
    "toc": {
      "base_numbering": 1,
      "nav_menu": {},
      "number_sections": false,
      "sideBar": true,
      "skip_h1_title": false,
      "title_cell": "Table of Contents",
      "title_sidebar": "Contents",
      "toc_cell": false,
      "toc_position": {},
      "toc_section_display": true,
      "toc_window_display": false
    },
    "colab": {
      "name": "Graduation Project.ipynb",
      "provenance": [],
      "include_colab_link": true
    }
  },
  "nbformat": 4,
  "nbformat_minor": 5
}