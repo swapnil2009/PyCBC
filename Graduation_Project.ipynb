{
  "cells": [
    {
      "cell_type": "markdown",
      "metadata": {
        "id": "view-in-github",
        "colab_type": "text"
      },
      "source": [
        "<a href=\"https://colab.research.google.com/github/swapnil2009/PyCBC/blob/master/Graduation_Project.ipynb\" target=\"_parent\"><img src=\"https://colab.research.google.com/assets/colab-badge.svg\" alt=\"Open In Colab\"/></a>"
      ]
    },
    {
      "cell_type": "markdown",
      "metadata": {
        "id": "2JIMIZWTsFx8"
      },
      "source": [
        "# Logistic Regression"
      ],
      "id": "2JIMIZWTsFx8"
    },
    {
      "cell_type": "markdown",
      "metadata": {
        "id": "upmPcaDQsFyD"
      },
      "source": [
        "\n",
        "\n",
        "\n",
        "## Assignment 🌯\n",
        "\n",
        "Using a [**dataset of 400+ burrito reviews**](https://srcole.github.io/100burritos/), build a model that predicts whether a burrito is rated `'Great'`?\n",
        "\n",
        "## What We Want\n",
        "\n",
        "The purpose of this assignment is to give us an idea of how you approach a data science problem and whether you mastered some of the skills that you learned in Fullstack Bootcamp. Please  explain your approach. \n",
        "\n",
        "## What You Need to Do\n",
        "\n",
        "- [ ] Make a copy of this notebook to work on - you can download if you have a local Jupyter setup, or click `File > Save a copy in Drive` to copy and work on with Google Colab\n",
        "- [ ] Import the burrito `csv` file into a `DataFrame`. Your target will be the `'Great'` column.\n",
        "- [ ] Conduct exploratory data analysis (EDA) to determine how you should clean the data for your pipeline.\n",
        "- [ ] Clean your data. (Note: You are not required to use all columns in your model, but justify your decisions based on your EDA.)\n",
        "- [ ] Do train/validate/test split. Train on reviews from 2016 & earlier. Validate on 2017. Test on 2018 & later.\n",
        "- [ ] Determine what the baseline accuracy is for a naïve classification model.\n",
        "- [ ] Create a `scikit-learn` pipeline with the following components:\n",
        "  - A one hot encoder for categorical features.\n",
        "  - A scaler.\n",
        "  - A logistic regressor.\n",
        "- [ ] Train your model using the training data.\n",
        "- [ ] Create a visualization showing your model's coefficients.\n",
        "- [ ] Get your model's validation accuracy (multiple times if you try multiple iterations).\n",
        "- [ ] Get your model's test accuracy (one time, at the end).\n",
        "\n",
        "---\n",
        "\n"
      ],
      "id": "upmPcaDQsFyD"
    },
    {
      "cell_type": "code",
      "execution_count": null,
      "metadata": {
        "id": "4LeQBYz6sFyG"
      },
      "outputs": [],
      "source": [
        "### Import the burrito `csv` file\n",
        "\n",
        "# Import Data\n",
        "import pandas as pd\n",
        "df = pd.read_csv('https://drive.google.com/uc?export=download&id=1cctPq1sYeD6Y6mGg5Lpl-GLDJBwtdihg')"
      ],
      "id": "4LeQBYz6sFyG"
    },
    {
      "cell_type": "code",
      "execution_count": null,
      "metadata": {
        "id": "d_AG-K1ysFyJ"
      },
      "outputs": [],
      "source": [
        "### Conduct exploratory data analysis (EDA)"
      ],
      "id": "d_AG-K1ysFyJ"
    },
    {
      "cell_type": "code",
      "execution_count": null,
      "metadata": {
        "id": "FxnMbI0CsFyJ"
      },
      "outputs": [],
      "source": [
        "\n",
        "### Clean data"
      ],
      "id": "FxnMbI0CsFyJ"
    },
    {
      "cell_type": "code",
      "execution_count": null,
      "metadata": {
        "id": "oA394_rYsFyK"
      },
      "outputs": [],
      "source": [
        "\n",
        "### Do train/validate/test split"
      ],
      "id": "oA394_rYsFyK"
    },
    {
      "cell_type": "code",
      "execution_count": null,
      "metadata": {
        "id": "T5WRKL7KsFyM"
      },
      "outputs": [],
      "source": [
        "### Determine baseline accuracy for a naïve classification model"
      ],
      "id": "T5WRKL7KsFyM"
    },
    {
      "cell_type": "code",
      "execution_count": null,
      "metadata": {
        "id": "g8LlFL_ksFyO"
      },
      "outputs": [],
      "source": [
        "### Create a `scikit-learn` pipeline"
      ],
      "id": "g8LlFL_ksFyO"
    },
    {
      "cell_type": "code",
      "execution_count": null,
      "metadata": {
        "id": "_nBkeIn6sFyP"
      },
      "outputs": [],
      "source": [
        "### Train model using training data"
      ],
      "id": "_nBkeIn6sFyP"
    },
    {
      "cell_type": "code",
      "execution_count": null,
      "metadata": {
        "id": "gDv1YBhTsFyQ"
      },
      "outputs": [],
      "source": [
        "### Create visualization of model coefficients\n",
        "\n"
      ],
      "id": "gDv1YBhTsFyQ"
    },
    {
      "cell_type": "code",
      "execution_count": null,
      "metadata": {
        "id": "QIQVffFmsFyU"
      },
      "outputs": [],
      "source": [
        "### Get model's validation accuracy\n",
        "\n"
      ],
      "id": "QIQVffFmsFyU"
    },
    {
      "cell_type": "code",
      "execution_count": null,
      "metadata": {
        "id": "ACqQF_YCsFyV"
      },
      "outputs": [],
      "source": [
        "### Get your model's test accuracy\n",
        "\n"
      ],
      "id": "ACqQF_YCsFyV"
    }
  ],
  "metadata": {
    "kernelspec": {
      "display_name": "Python 3",
      "language": "python",
      "name": "python3"
    },
    "language_info": {
      "codemirror_mode": {
        "name": "ipython",
        "version": 3
      },
      "file_extension": ".py",
      "mimetype": "text/x-python",
      "name": "python",
      "nbconvert_exporter": "python",
      "pygments_lexer": "ipython3",
      "version": "3.7.7"
    },
    "toc": {
      "base_numbering": 1,
      "nav_menu": {},
      "number_sections": false,
      "sideBar": true,
      "skip_h1_title": false,
      "title_cell": "Table of Contents",
      "title_sidebar": "Contents",
      "toc_cell": false,
      "toc_position": {},
      "toc_section_display": true,
      "toc_window_display": false
    },
    "colab": {
      "name": "Graduation Project.ipynb",
      "provenance": [],
      "include_colab_link": true
    }
  },
  "nbformat": 4,
  "nbformat_minor": 5
}