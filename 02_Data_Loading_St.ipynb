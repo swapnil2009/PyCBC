{
  "cells": [
    {
      "cell_type": "markdown",
      "metadata": {
        "id": "view-in-github",
        "colab_type": "text"
      },
      "source": [
        "<a href=\"https://colab.research.google.com/github/swapnil2009/PyCBC/blob/master/02_Data_Loading_St.ipynb\" target=\"_parent\"><img src=\"https://colab.research.google.com/assets/colab-badge.svg\" alt=\"Open In Colab\"/></a>"
      ]
    },
    {
      "cell_type": "markdown",
      "metadata": {
        "id": "xBQ0l4WQJkPv"
      },
      "source": [
        "# Data Loading"
      ]
    },
    {
      "cell_type": "markdown",
      "metadata": {
        "id": "ZyBxf-bcJkQA"
      },
      "source": [
        "## Data loading with Pandas\n",
        "Load `adult` dataset using Pandas."
      ]
    },
    {
      "cell_type": "code",
      "execution_count": null,
      "metadata": {
        "id": "oAAZGuF_JkQC"
      },
      "outputs": [],
      "source": [
        "import pandas as pd"
      ]
    },
    {
      "cell_type": "markdown",
      "metadata": {
        "id": "iHEsgEcEJkQD"
      },
      "source": [
        "## Simple analysis\n",
        "- Check the shape of the dataset, \n",
        "- list the column names count number of unique values in `income` column, \n",
        "- plot the histogram of age grouped by income"
      ]
    },
    {
      "cell_type": "code",
      "execution_count": null,
      "metadata": {
        "id": "Z0pzAcevJkQE"
      },
      "outputs": [],
      "source": [
        ""
      ]
    },
    {
      "cell_type": "markdown",
      "metadata": {
        "id": "NmONWJIUJkQE"
      },
      "source": [
        "# Splitting into training and test data"
      ]
    },
    {
      "cell_type": "code",
      "execution_count": null,
      "metadata": {
        "id": "WdwaDg3xJkQF"
      },
      "outputs": [],
      "source": [
        ""
      ]
    },
    {
      "cell_type": "markdown",
      "metadata": {
        "id": "0FXgqTaEJkQG"
      },
      "source": [
        "# Exercise I \n",
        "Load the \"boston house prices\" dataset from the ``boston_house_prices.csv`` file using the ``pd.read_csv`` function (you don't need ``index_column`` here).\n",
        "You can find a description of this dataset in the ``boston_house_prices.txt`` file.\n",
        "\n",
        "This is a regression dataset with \"MEDV\" the median house value in a block in thousand dollars the target.\n",
        "How many features are there and how many samples?\n",
        "\n",
        "Split the data into a training and a test set for learning.\n",
        "Optionally you can plot MEDV vs any of the features using the ``plot`` method of the dataframe (using ``kind=\"scatter\"``)."
      ]
    },
    {
      "cell_type": "code",
      "execution_count": null,
      "metadata": {
        "id": "j2EQEEmAJkQH"
      },
      "outputs": [],
      "source": [
        ""
      ]
    },
    {
      "cell_type": "markdown",
      "metadata": {
        "id": "LdGt4ireJkQH"
      },
      "source": [
        "## Load Datasets from ScikitLearn\n",
        "Load digits dataset from sklearn"
      ]
    },
    {
      "cell_type": "code",
      "execution_count": null,
      "metadata": {
        "id": "FSQ9Mek3JkQI"
      },
      "outputs": [],
      "source": [
        ""
      ]
    },
    {
      "cell_type": "markdown",
      "metadata": {
        "id": "yqnnvEy4JkQI"
      },
      "source": [
        "# Exercise II\n",
        "\n",
        "Load the iris dataset from the ``sklearn.datasets`` module using the ``load_iris`` function.\n",
        "The function returns a dictionary-like object that has the same attributes as ``digits``.\n",
        "\n",
        "What is the number of classes, features and data points in this dataset?\n",
        "Use a scatterplot to visualize the dataset.\n",
        "\n",
        "You can look at ``DESCR`` attribute to learn more about the dataset.\n"
      ]
    },
    {
      "cell_type": "code",
      "execution_count": null,
      "metadata": {
        "id": "RPI30eAPJkQJ"
      },
      "outputs": [],
      "source": [
        ""
      ]
    }
  ],
  "metadata": {
    "kernelspec": {
      "display_name": "Python 3",
      "language": "python",
      "name": "python3"
    },
    "language_info": {
      "codemirror_mode": {
        "name": "ipython",
        "version": 3
      },
      "file_extension": ".py",
      "mimetype": "text/x-python",
      "name": "python",
      "nbconvert_exporter": "python",
      "pygments_lexer": "ipython3",
      "version": "3.8.3"
    },
    "colab": {
      "name": "02-Data Loading-St.ipynb",
      "provenance": [],
      "include_colab_link": true
    }
  },
  "nbformat": 4,
  "nbformat_minor": 0
}